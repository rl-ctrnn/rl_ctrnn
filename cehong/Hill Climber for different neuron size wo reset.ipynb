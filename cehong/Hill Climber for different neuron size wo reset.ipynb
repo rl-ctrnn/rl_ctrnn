{
 "cells": [
  {
   "cell_type": "code",
   "execution_count": 1,
   "id": "4123adab",
   "metadata": {},
   "outputs": [
    {
     "data": {
      "text/plain": [
       "['/home/wangc7/Summer Research/New/rl_ctrnn/cehong',\n",
       " '/opt/anaconda3/lib/python37.zip',\n",
       " '/opt/anaconda3/lib/python3.7',\n",
       " '/opt/anaconda3/lib/python3.7/lib-dynload',\n",
       " '',\n",
       " '/home/wangc7/.local/lib/python3.7/site-packages',\n",
       " '/opt/anaconda3/lib/python3.7/site-packages',\n",
       " '/opt/anaconda3/lib/python3.7/site-packages/locket-0.2.1-py3.7.egg',\n",
       " '/opt/anaconda3/lib/python3.7/site-packages/IPython/extensions',\n",
       " '/home/wangc7/.ipython',\n",
       " '../']"
      ]
     },
     "execution_count": 1,
     "metadata": {},
     "output_type": "execute_result"
    }
   ],
   "source": [
    "import sys\n",
    "sys.path.append('../')\n",
    "sys.path"
   ]
  },
  {
   "cell_type": "code",
   "execution_count": 2,
   "id": "c25db0fe",
   "metadata": {},
   "outputs": [],
   "source": [
    "import matplotlib.pyplot as plt\n",
    "import numpy as np\n",
    "import pandas as pd\n",
    "from util.fitness_functions import fitness_maximize_output_change\n",
    "from jason.ctrnn import CTRNN\n",
    "from Utilities import *\n",
    "from tqdm.contrib.concurrent import process_map\n",
    "import os"
   ]
  },
  {
   "cell_type": "code",
   "execution_count": 3,
   "id": "5185a62e",
   "metadata": {},
   "outputs": [],
   "source": [
    "def mutate(params,jump_size,size):\n",
    "    params_new = params + (np.random.rand(size*(size+1))*32-16)*jump_size\n",
    "    params_new = np.clip(params_new,-16,16)\n",
    "    return params_new"
   ]
  },
  {
   "cell_type": "code",
   "execution_count": 4,
   "id": "e06ef611",
   "metadata": {},
   "outputs": [],
   "source": [
    "## Hyper-parameters\n",
    "# size = 2\n",
    "def Climb(params):\n",
    "    size, seed = params\n",
    "    result = pd.DataFrame()\n",
    "    n_step = 1000\n",
    "    result['step'] = np.arange(n_step)\n",
    "    jump_size = 0.15\n",
    "    fitnesses = []\n",
    "    best = []\n",
    "    filename = f'./paper_figure/data/conf_size{size}/random_size-{size}_seed-{seed}.json'\n",
    "\n",
    "    ## Construct CTRNN\n",
    "    nn = CTRNN(size)\n",
    "\n",
    "    nn.load_json(filename)\n",
    "    params = np.concatenate([nn.inner_weights.reshape(-1),nn.biases],0)\n",
    "    old = 0\n",
    "    for i in range(n_step):\n",
    "        params_new = mutate(params,jump_size,size)\n",
    "#         nn.reset()\n",
    "    #     params_new[-2:] = [5.15 , -10.75]\n",
    "        nn.set_normalized_parameters(params_new/16)\n",
    "        fitness = fitness_maximize_output_change(nn, stepsize=0.01, init_duration=0, test_duration=10)\n",
    "\n",
    "        if fitness - old >= 0:\n",
    "            old = fitness \n",
    "            params = params_new\n",
    "#             print(fitness)\n",
    "        fitnesses.append(fitness)\n",
    "        best.append(old)\n",
    "\n",
    "    result['best_fitness'] = best\n",
    "    result['current_fitness'] = fitnesses\n",
    "        \n",
    "    output = f'./paper_figure/data/without_reset/size{size}/size-{size}_seed-{seed}.csv'\n",
    "#     if not os.path.exists(f'./paper_figure/data/without_reset/size{size}'):\n",
    "#             os.makedirs(f'./paper_figure/data/without_reset/size{size}/')\n",
    "    \n",
    "    result.to_csv(output)\n",
    "#     result['volt1'] = volt1\n",
    "#     result['volt2'] = volt2\n",
    "#     result['volt3'] = volt3\n"
   ]
  },
  {
   "cell_type": "code",
   "execution_count": 5,
   "id": "feda0c89",
   "metadata": {},
   "outputs": [],
   "source": [
    "def main():\n",
    "\n",
    "    THREADS=22\n",
    "\n",
    "    sweep = get_sweep()\n",
    "\n",
    "    r = process_map(Climb, sweep, max_workers=THREADS, chunksize=1)\n",
    "\n",
    "def get_sweep() :\n",
    "\n",
    "    params = []\n",
    "    for size in [2,3,4,5,6,7,8,9,10]:\n",
    "        for seed in range(10):\n",
    "            params.append((size, seed))\n",
    "    print(params)\n",
    "    return params\n"
   ]
  },
  {
   "cell_type": "code",
   "execution_count": 6,
   "id": "a9ec5a45",
   "metadata": {},
   "outputs": [
    {
     "name": "stdout",
     "output_type": "stream",
     "text": [
      "[(2, 0), (2, 1), (2, 2), (2, 3), (2, 4), (2, 5), (2, 6), (2, 7), (2, 8), (2, 9), (3, 0), (3, 1), (3, 2), (3, 3), (3, 4), (3, 5), (3, 6), (3, 7), (3, 8), (3, 9), (4, 0), (4, 1), (4, 2), (4, 3), (4, 4), (4, 5), (4, 6), (4, 7), (4, 8), (4, 9), (5, 0), (5, 1), (5, 2), (5, 3), (5, 4), (5, 5), (5, 6), (5, 7), (5, 8), (5, 9), (6, 0), (6, 1), (6, 2), (6, 3), (6, 4), (6, 5), (6, 6), (6, 7), (6, 8), (6, 9), (7, 0), (7, 1), (7, 2), (7, 3), (7, 4), (7, 5), (7, 6), (7, 7), (7, 8), (7, 9), (8, 0), (8, 1), (8, 2), (8, 3), (8, 4), (8, 5), (8, 6), (8, 7), (8, 8), (8, 9), (9, 0), (9, 1), (9, 2), (9, 3), (9, 4), (9, 5), (9, 6), (9, 7), (9, 8), (9, 9), (10, 0), (10, 1), (10, 2), (10, 3), (10, 4), (10, 5), (10, 6), (10, 7), (10, 8), (10, 9)]\n"
     ]
    },
    {
     "data": {
      "application/vnd.jupyter.widget-view+json": {
       "model_id": "3f11540dda324aab9089abc3092b4004",
       "version_major": 2,
       "version_minor": 0
      },
      "text/plain": [
       "  0%|          | 0/90 [00:00<?, ?it/s]"
      ]
     },
     "metadata": {},
     "output_type": "display_data"
    }
   ],
   "source": [
    "main()"
   ]
  },
  {
   "cell_type": "code",
   "execution_count": 7,
   "id": "41640e1f",
   "metadata": {},
   "outputs": [],
   "source": [
    "# result.to_csv(\"size2to10fitnessduration10s.csv\")\n",
    "# result = pd.read_csv(\"size2to10fitnessduration5s.csv\")"
   ]
  },
  {
   "cell_type": "code",
   "execution_count": 8,
   "id": "8733aa58",
   "metadata": {},
   "outputs": [],
   "source": [
    "# result = result.drop(result.columns[0],axis=1)"
   ]
  },
  {
   "cell_type": "code",
   "execution_count": 9,
   "id": "0d873dbb",
   "metadata": {},
   "outputs": [
    {
     "ename": "NameError",
     "evalue": "name 'result' is not defined",
     "output_type": "error",
     "traceback": [
      "\u001b[0;31m---------------------------------------------------------------------------\u001b[0m",
      "\u001b[0;31mNameError\u001b[0m                                 Traceback (most recent call last)",
      "\u001b[0;32m<ipython-input-9-99e69f335fb2>\u001b[0m in \u001b[0;36m<module>\u001b[0;34m\u001b[0m\n\u001b[0;32m----> 1\u001b[0;31m \u001b[0mresult\u001b[0m\u001b[0;34m.\u001b[0m\u001b[0mplot\u001b[0m\u001b[0;34m(\u001b[0m\u001b[0mx\u001b[0m\u001b[0;34m=\u001b[0m\u001b[0;34m'step'\u001b[0m\u001b[0;34m)\u001b[0m\u001b[0;34m\u001b[0m\u001b[0;34m\u001b[0m\u001b[0m\n\u001b[0m\u001b[1;32m      2\u001b[0m \u001b[0mplt\u001b[0m\u001b[0;34m.\u001b[0m\u001b[0mlegend\u001b[0m\u001b[0;34m(\u001b[0m\u001b[0;34m)\u001b[0m\u001b[0;34m\u001b[0m\u001b[0;34m\u001b[0m\u001b[0m\n\u001b[1;32m      3\u001b[0m \u001b[0mplt\u001b[0m\u001b[0;34m.\u001b[0m\u001b[0mshow\u001b[0m\u001b[0;34m(\u001b[0m\u001b[0;34m)\u001b[0m\u001b[0;34m\u001b[0m\u001b[0;34m\u001b[0m\u001b[0m\n",
      "\u001b[0;31mNameError\u001b[0m: name 'result' is not defined"
     ]
    }
   ],
   "source": [
    "result.plot(x='step')\n",
    "plt.legend()\n",
    "plt.show()"
   ]
  },
  {
   "cell_type": "code",
   "execution_count": null,
   "id": "440fd538",
   "metadata": {},
   "outputs": [],
   "source": [
    "nn.reset()\n",
    "nn.set_normalized_parameters(params/16)\n",
    "fitness = fitness_maximize_output_change(nn, stepsize=0.01, init_duration=250, test_duration=50)\n",
    "print(\"The fitness is:\",fitness)"
   ]
  },
  {
   "cell_type": "code",
   "execution_count": null,
   "id": "ddd2d204",
   "metadata": {},
   "outputs": [],
   "source": [
    "frequency_fitness_no_transients(nn,init_duration=10, test_duration=10,show_plots = True)"
   ]
  },
  {
   "cell_type": "code",
   "execution_count": null,
   "id": "8eab0d74",
   "metadata": {},
   "outputs": [],
   "source": [
    "plt.rcParams['figure.figsize'] = [10, 5]"
   ]
  },
  {
   "cell_type": "code",
   "execution_count": null,
   "id": "36acbda5",
   "metadata": {},
   "outputs": [],
   "source": []
  }
 ],
 "metadata": {
  "kernelspec": {
   "display_name": "Python 3",
   "language": "python",
   "name": "python3"
  },
  "language_info": {
   "codemirror_mode": {
    "name": "ipython",
    "version": 3
   },
   "file_extension": ".py",
   "mimetype": "text/x-python",
   "name": "python",
   "nbconvert_exporter": "python",
   "pygments_lexer": "ipython3",
   "version": "3.7.11"
  }
 },
 "nbformat": 4,
 "nbformat_minor": 5
}
